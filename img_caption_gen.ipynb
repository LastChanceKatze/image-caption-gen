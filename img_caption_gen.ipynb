{
  "nbformat": 4,
  "nbformat_minor": 0,
  "metadata": {
    "colab": {
      "name": "img-caption-gen.ipynb",
      "provenance": [],
      "authorship_tag": "ABX9TyN7FIbTbywbO9IvBel6uhE/",
      "include_colab_link": true
    },
    "kernelspec": {
      "name": "python3",
      "display_name": "Python 3"
    },
    "language_info": {
      "name": "python"
    },
    "accelerator": "GPU"
  },
  "cells": [
    {
      "cell_type": "markdown",
      "metadata": {
        "id": "view-in-github",
        "colab_type": "text"
      },
      "source": [
        "<a href=\"https://colab.research.google.com/github/LastChanceKatze/image-caption-gen/blob/main/img_caption_gen.ipynb\" target=\"_parent\"><img src=\"https://colab.research.google.com/assets/colab-badge.svg\" alt=\"Open In Colab\"/></a>"
      ]
    },
    {
      "cell_type": "code",
      "metadata": {
        "id": "PhheFCoXN3v2"
      },
      "source": [
        "from os import listdir\n",
        "from tensorflow.keras.applications.vgg16 import VGG16, preprocess_input\n",
        "from tensorflow.keras.models import Model\n",
        "from keras.preprocessing.image import load_img, img_to_array"
      ],
      "execution_count": null,
      "outputs": []
    },
    {
      "cell_type": "code",
      "metadata": {
        "id": "atNRjTOiNvhn"
      },
      "source": [
        "def extract_features(images_dir):\n",
        "    model = VGG16()\n",
        "    print(model.summary())\n",
        "    model = Model(inputs=model.inputs, outputs=model.layers[-2].output)\n",
        "    print(model.summary())\n",
        "\n",
        "    features_dict = dict()\n",
        "\n",
        "    for name in listdir(images_dir):\n",
        "      filename = f\"{images_dir}/{name}\"\n",
        "      image = load_img(filename, target_size=(224, 224))\n",
        "      image = img_to_array(image)\n",
        "      image = image.reshape((1, image.shape[0], image.shape[1], image.shape[2]))\n",
        "      image = preprocess_input(image)\n",
        "      features = model.predict(image, verbose=0)\n",
        "      image_id = name.split('.')[0]\n",
        "      features_dict[image_id] = features\n",
        "      print(image_id)\n",
        "    return features_dict\n",
        "\n",
        "def save_img_features(img_features, to_file):\n",
        "  dump(img_features, open(to_file, \"wb\"))\n",
        "\n",
        "def preprocess_img_features(images_dir, to_file):\n",
        "  features = extract_features(images_dir)\n",
        "  save_img_features(features, to_file)"
      ],
      "execution_count": null,
      "outputs": []
    },
    {
      "cell_type": "code",
      "metadata": {
        "id": "IysfwqQfUkmr"
      },
      "source": [
        ""
      ],
      "execution_count": null,
      "outputs": []
    },
    {
      "cell_type": "code",
      "metadata": {
        "id": "NAG-qvZ4Wld9"
      },
      "source": [
        ""
      ],
      "execution_count": null,
      "outputs": []
    }
  ]
}